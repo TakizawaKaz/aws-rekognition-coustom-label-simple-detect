{
 "cells": [
  {
   "cell_type": "markdown",
   "metadata": {},
   "source": [
    "\n",
    "# Amazon Rekoginiton Coustom Labelによる推論検証"
   ]
  },
  {
   "cell_type": "code",
   "execution_count": null,
   "metadata": {},
   "outputs": [],
   "source": [
    "import boto3\n",
    "import json\n",
    "import os\n",
    "import time\n",
    "from PIL import Image\n",
    "import matplotlib.pyplot as plt\n",
    "import numpy as np\n",
    "from time import sleep\n"
   ]
  },
  {
   "cell_type": "markdown",
   "metadata": {},
   "source": [
    "### AWS SDK Client"
   ]
  },
  {
   "cell_type": "code",
   "execution_count": null,
   "metadata": {},
   "outputs": [],
   "source": [
    "#AWS SDK Client\n",
    "REKOGNITION_CLIENT_NAME ='rekognition'\n",
    "S3_CLIENT_NAME ='s3'"
   ]
  },
  {
   "cell_type": "markdown",
   "metadata": {},
   "source": [
    "### Rekoginiton Amazon Resours Name"
   ]
  },
  {
   "cell_type": "code",
   "execution_count": null,
   "metadata": {},
   "outputs": [],
   "source": [
    "#Amazon Resours Name\n",
    "REKOGNITION_ARN ='arn:aws:rekognition:us-east-1:[You are rekognition_arn]'\n",
    "PROJECT_ARN ='arn:aws:rekognition:us-east-1:[You are rekognition_project_arn]'\n",
    "VERSION_NAME='[You are rekognition_model_version_name]'"
   ]
  },
  {
   "cell_type": "markdown",
   "metadata": {},
   "source": [
    "### AWS Session Configure"
   ]
  },
  {
   "cell_type": "code",
   "execution_count": null,
   "metadata": {},
   "outputs": [],
   "source": [
    "#AWS Configure\n",
    "AWS_ACCESS_KEY_ID='[You are Access Key Id]'\n",
    "AWS_SECRET_ACCESS_KEY='[You are Secret Access key Id]'\n",
    "AWS_REGIN ='us-east-1' #東京リージョンではまだ開放されていません"
   ]
  },
  {
   "cell_type": "markdown",
   "metadata": {},
   "source": [
    "### Boto3クライアントの作成"
   ]
  },
  {
   "cell_type": "code",
   "execution_count": null,
   "metadata": {},
   "outputs": [],
   "source": [
    "rekognition_client = boto3.client(REKOGNITION_CLIENT_NAME,\n",
    "        aws_access_key_id=AWS_ACCESS_KEY_ID,\n",
    "        aws_secret_access_key=AWS_SECRET_ACCESS_KEY,\n",
    "        region_name=AWS_REGIN\n",
    ")\n",
    "print(rekognition_client)"
   ]
  },
  {
   "cell_type": "markdown",
   "metadata": {},
   "source": [
    "### 推論モデルの状態を確認"
   ]
  },
  {
   "cell_type": "code",
   "execution_count": null,
   "metadata": {},
   "outputs": [],
   "source": [
    "#Recognitionプロジェクトの現在の状態\n",
    "response =rekognition_client.describe_project_versions(\n",
    "    ProjectArn=PROJECT_ARN,\n",
    "    VersionNames=[VERSION_NAME,]\n",
    ")\n",
    "for pro_state in response[\"ProjectVersionDescriptions\"]:\n",
    "        if pro_state[\"ProjectVersionArn\"] == REKOGNITION_ARN :\n",
    "            print(pro_state[\"Status\"])"
   ]
  },
  {
   "cell_type": "markdown",
   "metadata": {},
   "source": [
    "### 推論モデルの起動\n",
    "- Status:STARTING => 起動中 （推論実行不能）\n",
    "- Status:RUNNIG => 起動（推論実行可能）\n",
    "- 推論モデルを動かしている時間に対して課金 （＄4/hour) \n",
    "- 推論用インスタンスの実行までは5分から10分ほど待つ必要があります｡\n",
    "### 必ず最後は停止させよう！！！"
   ]
  },
  {
   "cell_type": "code",
   "execution_count": null,
   "metadata": {},
   "outputs": [],
   "source": [
    "\n",
    "is_running=False\n",
    "is_stop = False\n",
    "is_start_waite=False\n",
    "timeout =100\n",
    "timeout_cnt =0\n",
    "\n",
    "while timeout> timeout_cnt :\n",
    "    \n",
    "    #Recognitionプロジェクトの状態を取得\n",
    "    response =rekognition_client.describe_project_versions(\n",
    "        ProjectArn=PROJECT_ARN,\n",
    "        VersionNames=[VERSION_NAME,]\n",
    "    )\n",
    "    \n",
    "    #RecognitionプロジェクトのステータスJSONを読み取り\n",
    "    for pro_state in response[\"ProjectVersionDescriptions\"]:\n",
    "        \n",
    "        if pro_state[\"ProjectVersionArn\"] == REKOGNITION_ARN :\n",
    "            \n",
    "            #停止済み ＝＞ 起動開始\n",
    "            if pro_state[\"Status\"] == \"STOPPED\":\n",
    "                print (\"Is STOPPED now…\")\n",
    "                response = rekognition_client.start_project_version(\n",
    "                    ProjectVersionArn=REKOGNITION_ARN,\n",
    "                    MinInferenceUnits=1\n",
    "                )\n",
    "\n",
    "            #起動中のなので終わり\n",
    "            if pro_state[\"Status\"] == \"RUNNING\":\n",
    "                print (\"Is RUNNING now…\")\n",
    "                is_running = True\n",
    "\n",
    "            #起動開始中のため待機\n",
    "            if pro_state[\"Status\"] == \"STARTING\":\n",
    "                if not is_start_waite:\n",
    "                    print (\"Is STARTING wait…\")\n",
    "                    is_start_waite = True\n",
    "                \n",
    "            #終了中のため待機\n",
    "            if pro_state[\"Status\"] == \"STOPPING\":\n",
    "                print (\"Is STOPPING wait…\")\n",
    "\n",
    "            break\n",
    "    \n",
    "    #起動が確認できたら脱出\n",
    "    if is_running :\n",
    "        print(\"RUNNING:OK\")\n",
    "        break\n",
    "    \n",
    "    #5秒待機\n",
    "    print(\"…\" ,end=\"\")\n",
    "    sleep (5)\n",
    "    timeout_cnt +=1\n",
    "\n",
    "if not is_running:\n",
    "    print(\"TIME OUT\")"
   ]
  },
  {
   "cell_type": "code",
   "execution_count": null,
   "metadata": {},
   "outputs": [],
   "source": [
    "\n",
    "if is_running :\n",
    "    start_s3 = time.time()\n",
    "        \n",
    "    #推論用のS3を指定\n",
    "    S3_BUCKET =\"You are Bucket\"\n",
    "    S3_DIR_PATH =\"You are Path\"\n",
    "    \n",
    "    #推論処理を行いたいファイルパスを入れる(\\ は /  に置換)\n",
    "    DETECT_UPLOAD_FILE_PATH =\"Detect Img file Path\"\n",
    "    DETECT_UPLOAD_FILE_PATH = DETECT_UPLOAD_FILE_PATH.replace(os.path.sep,'/')\n",
    "    #ファイル名のみを抜出\n",
    "    UPLOAD_FILE_NAME = os.path.basename(DETECT_UPLOAD_FILE_PATH)\n",
    "    print(UPLOAD_FILE_NAME)\n",
    "    \n",
    "    #推論画像の読み込み\n",
    "    im = Image.open(DETECT_UPLOAD_FILE_PATH)\n",
    "    #推論画像をarrayに変換\n",
    "    im_list = np.asarray(im)\n",
    "    plt.imshow(im_list)\n",
    "    #推論画像表示\n",
    "    plt.show()\n",
    "    \n",
    "    #S3クライアント作成\n",
    "    s3_client = boto3.client(S3_CLIENT_NAME,\n",
    "        aws_access_key_id=AWS_ACCESS_KEY_ID,\n",
    "        aws_secret_access_key=AWS_SECRET_ACCESS_KEY,\n",
    "        region_name=AWS_REGIN,\n",
    "    )\n",
    "    \n",
    "    #S3にアップロード\n",
    "    response = s3_client.upload_file(DETECT_UPLOAD_FILE_PATH, S3_BUCKET, os.path.join(S3_DIR_PATH, UPLOAD_FILE_NAME))\n",
    "    print(response)\n",
    "    print(os.path.join(S3_DIR_PATH, UPLOAD_FILE_NAME))\n",
    "    print()\n",
    "    \n",
    "    s3Upload_time = time.time() - start_s3\n",
    "    print (\"S3 Upload Time:{0}\".format(s3Upload_time) + \"[sec]\")\n",
    "    print()\n",
    "    \n",
    "    \n",
    "    start_rekogonition = time.time()\n",
    "    \n",
    "    #Recgnittionで推論実行\n",
    "    response = rekognition_client.detect_custom_labels(\n",
    "        ProjectVersionArn=REKOGNITION_ARN,\n",
    "        Image={\n",
    "            'S3Object': {\n",
    "                'Bucket': S3_BUCKET,\n",
    "                'Name':  os.path.join(S3_DIR_PATH, UPLOAD_FILE_NAME),\n",
    "            }\n",
    "        },\n",
    "    )\n",
    "    \n",
    "    #結果\n",
    "    print(response)\n",
    "    print()\n",
    "    \n",
    "    for res in response[\"CustomLabels\"]:\n",
    "        print(\"ラベル: \" + res[\"Name\"])\n",
    "        print(\"信頼性: \" + str(res[\"Confidence\"]))\n",
    "    \n",
    "    rekogonition_detect_time = time.time() - start_rekogonition\n",
    "    print()\n",
    "    print (\"Rekogonition Detect Time:{0}\".format(rekogonition_detect_time) + \"[sec]\")\n",
    "    \n"
   ]
  },
  {
   "cell_type": "markdown",
   "metadata": {},
   "source": [
    "### 推論モデルの停止\n",
    "- 推論モデルのステータスが「STARTING」の間は停止はかけられない\n",
    "- ステータスが「RUNNING」になってから停止させる"
   ]
  },
  {
   "cell_type": "code",
   "execution_count": null,
   "metadata": {},
   "outputs": [],
   "source": [
    "#無限ループでRUNNING OR STOP になるまで待機\n",
    "\n",
    "is_running=False\n",
    "is_stop = False\n",
    "timeout =30\n",
    "timeout_cnt =0\n",
    "\n",
    "while timeout> timeout_cnt :\n",
    "    \n",
    "    #Recognitionプロジェクトの状態を取得\n",
    "    response =rekognition_client.describe_project_versions(\n",
    "        ProjectArn=PROJECT_ARN,\n",
    "        VersionNames=[VERSION_NAME,]\n",
    "    )\n",
    "    \n",
    "    #RecognitionプロジェクトのステータスJSONを読み取り\n",
    "    for pro_state in response[\"ProjectVersionDescriptions\"]:\n",
    "        \n",
    "        if pro_state[\"ProjectVersionArn\"] == REKOGNITION_ARN :\n",
    "            \n",
    "            #停止済いおしくは停止中\n",
    "            if pro_state[\"Status\"] == \"STOPPED\" or pro_state[\"Status\"] == \"STOPPING\" :\n",
    "                print (\"Is STOPPED now…\")\n",
    "                is_stop= True\n",
    "\n",
    "            #起動中\n",
    "            if pro_state[\"Status\"] == \"RUNNING\":\n",
    "                print (\"Is RUNNING now…\")\n",
    "                is_running=True\n",
    "\n",
    "            #起動開始中ためRUNNINGまで待機\n",
    "            if pro_state[\"Status\"] == \"STARTING\":\n",
    "                print (\"Is STARTING wait…\")\n",
    "\n",
    "            break\n",
    "    \n",
    "    #停止状態もしくは起動中を確認できたら無限ループから脱出\n",
    "    if is_running or is_stop :\n",
    "        \n",
    "        if is_running :\n",
    "            response = rekognition_client.stop_project_version(\n",
    "                ProjectVersionArn=REKOGNITION_ARN,\n",
    "            )\n",
    "        print(response[\"Status\"])\n",
    "        is_stop =True\n",
    "        break\n",
    "    \n",
    "    #10秒待機\n",
    "    print(\"Sleep 10s …\")\n",
    "    sleep (10)\n",
    "    timeout_cnt +=1\n",
    "\n",
    "if not is_stop :\n",
    "     print(\"STOP Error\")\n",
    "    "
   ]
  }
 ],
 "metadata": {
  "kernelspec": {
   "display_name": "Python 3",
   "language": "python",
   "name": "python3"
  },
  "language_info": {
   "codemirror_mode": {
    "name": "ipython",
    "version": 3
   },
   "file_extension": ".py",
   "mimetype": "text/x-python",
   "name": "python",
   "nbconvert_exporter": "python",
   "pygments_lexer": "ipython3",
   "version": "3.7.6"
  }
 },
 "nbformat": 4,
 "nbformat_minor": 4
}